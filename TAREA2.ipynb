{
 "cells": [
  {
   "cell_type": "code",
   "execution_count": 4,
   "metadata": {},
   "outputs": [
    {
     "name": "stdout",
     "output_type": "stream",
     "text": [
      "[3, 1, 1, 2, 1, 6, 6, 6, 5, 6, 7, 8, 9, 8, 9, 9, 8]\n",
      "[5, 4, 6, 6, 5, 8, 6, 7, 6, 7, 1, 2, 1, 2, 3, 2, 3]\n"
     ]
    },
    {
     "data": {
      "image/png": "[encoded data removed]",
      "text/plain": [
       "<Figure size 432x288 with 1 Axes>"
      ]
     },
     "metadata": {
      "needs_background": "light"
     },
     "output_type": "display_data"
    },
    {
     "name": "stdout",
     "output_type": "stream",
     "text": [
      "(x1,x2)->:clase\n",
      "(3,5)->:2\n",
      "(x1,x2)->:clase\n",
      "(1,4)->:2\n",
      "(x1,x2)->:clase\n",
      "(1,6)->:2\n",
      "(x1,x2)->:clase\n",
      "(2,6)->:2\n",
      "(x1,x2)->:clase\n",
      "(1,5)->:2\n",
      "(x1,x2)->:clase\n",
      "(6,8)->:0\n",
      "(x1,x2)->:clase\n",
      "(6,6)->:0\n",
      "(x1,x2)->:clase\n",
      "(6,7)->:0\n",
      "(x1,x2)->:clase\n",
      "(5,6)->:0\n",
      "(x1,x2)->:clase\n",
      "(6,7)->:0\n",
      "(x1,x2)->:clase\n",
      "(7,1)->:1\n",
      "(x1,x2)->:clase\n",
      "(8,2)->:1\n",
      "(x1,x2)->:clase\n",
      "(9,1)->:1\n",
      "(x1,x2)->:clase\n",
      "(8,2)->:1\n",
      "(x1,x2)->:clase\n",
      "(9,3)->:1\n",
      "(x1,x2)->:clase\n",
      "(9,2)->:1\n",
      "(x1,x2)->:clase\n",
      "(8,3)->:1\n",
      "predicir: \n",
      "[2 2 2 2 2 0 0 0 0 0 1 1 1 1 1 1 1]\n",
      "prueba:  [[3, 5]]\n",
      "Prediccion: ([[3, 5]],[2])\n",
      "centroides: \n",
      "[[5.8        6.8       ]\n",
      " [8.28571429 2.        ]\n",
      " [1.6        5.2       ]]\n",
      "los centroides:\n",
      "[5.8 6.8]\n",
      "los centroidesss: \n",
      "5.8\n"
     ]
    },
    {
     "data": {
      "image/png": "[encoded data removed]",
      "text/plain": [
       "<Figure size 432x288 with 1 Axes>"
      ]
     },
     "metadata": {
      "needs_background": "light"
     },
     "output_type": "display_data"
    },
    {
     "name": "stdout",
     "output_type": "stream",
     "text": [
      "-------------------------------------------\n"
     ]
    },
    {
     "data": {
      "image/png": "[encoded data removed]",
      "text/plain": [
       "<Figure size 432x288 with 1 Axes>"
      ]
     },
     "metadata": {
      "needs_background": "light"
     },
     "output_type": "display_data"
    }
   ],
   "source": [
    "#TAREA DE IA\n",
    "\n",
    "import numpy as np\n",
    "import matplotlib.pyplot as pl\n",
    "\n",
    "from sklearn.cluster import KMeans\n",
    "#from sklearn import Metrics\n",
    "\n",
    "v1=[3,1,1,2,1,6,6,6,5,6,7,8,9,8,9,9,8]\n",
    "v2=[5,4,6,6,5,8,6,7,6,7,1,2,1,2,3,2,3]\n",
    "\n",
    "print(v1)\n",
    "print(v2)\n",
    "x1=np.array(v1)\n",
    "x2=np.array(v2)\n",
    "x=np.array(list(zip(x1,x2))).reshape(len(x1),2)\n",
    "pl.plot(x1,x2,'o',label=\"D\")\n",
    "\n",
    "pl.xlabel('x')\n",
    "pl.ylabel('y')\n",
    "pl.grid()\n",
    "pl.legend()\n",
    "pl.show()\n",
    "\n",
    "k=3 \n",
    "modelo_kmeans=KMeans(n_clusters=k).fit(x)\n",
    "\n",
    "\n",
    "for i,l in enumerate(modelo_kmeans.labels_):\n",
    "    print(\"(x1,x2)->:clase\")\n",
    "    print(\"({0},{1})->:{2}\".format(x1[i],x2[i],l))\n",
    "    \n",
    "print(\"predicir: \")\n",
    "predicir=modelo_kmeans.predict(x)\n",
    "print(predicir)\n",
    "\n",
    "\n",
    "prueba=[[3,5]]\n",
    "print(\"prueba: \",prueba)\n",
    "prediccion=modelo_kmeans.predict(prueba)\n",
    "print(\"Prediccion: ({0},{1})\".format(prueba,prediccion))\n",
    "\n",
    "#calculando los centroides\n",
    "print(\"centroides: \")\n",
    "centroides=modelo_kmeans.cluster_centers_\n",
    "print(centroides)\n",
    "c1=centroides[0]\n",
    "c2=centroides[1]\n",
    "c3=centroides[2]\n",
    "print(\"los centroides:\")\n",
    "print(c1)\n",
    "print(\"los centroidesss: \")\n",
    "cx1=c1[0]\n",
    "print(cx1)\n",
    "#para graficar\n",
    "cx=[c1[0],c2[0],c3[0]]\n",
    "cy=[c1[1],c2[1],c3[1]]\n",
    "\n",
    "\n",
    "pl.plot(x1,x2,'o',label=\"puntos\")\n",
    "pl.plot(cx,cy,'o',label=\"centroides\")\n",
    "#pl.plot(c1[0],c1[1],'o',label=\"centroides\")\n",
    "#pl.plot(c2[0],c2[1],'o')\n",
    "#pl.plot(c3[0],c3[1],'o')\n",
    "pl.xlabel('x')\n",
    "pl.ylabel('y')\n",
    "pl.grid()\n",
    "pl.legend()\n",
    "pl.show()\n",
    "print(\"-------------------------------------------\")\n",
    "pl.plot(x1,x2,'o',label=\"puntos\")\n",
    "pl.plot(c1[0],c1[1],'o',label=\"c1\")\n",
    "pl.plot(c2[0],c2[1],'o',label=\"c2\")\n",
    "pl.plot(c3[0],c3[1],'o',label=\"c3\")\n",
    "pl.xlabel('x')\n",
    "pl.ylabel('y')\n",
    "pl.grid()\n",
    "pl.legend()\n",
    "pl.show()"
   ]
  },
  {
   "cell_type": "code",
   "execution_count": null,
   "metadata": {},
   "outputs": [],
   "source": []
  }
 ],
 "metadata": {
  "kernelspec": {
   "display_name": "Python 3",
   "language": "python",
   "name": "python3"
  },
  "language_info": {
   "codemirror_mode": {
    "name": "ipython",
    "version": 3
   },
   "file_extension": ".py",
   "mimetype": "text/x-python",
   "name": "python",
   "nbconvert_exporter": "python",
   "pygments_lexer": "ipython3",
   "version": "3.7.4"
  }
 },
 "nbformat": 4,
 "nbformat_minor": 2
}
