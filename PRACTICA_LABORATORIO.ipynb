{
 "cells": [
  {
   "cell_type": "code",
   "execution_count": 1,
   "metadata": {},
   "outputs": [
    {
     "name": "stdout",
     "output_type": "stream",
     "text": [
      "[1, 2, 4, 5]\n",
      "[1, 1, 3, 4]\n"
     ]
    },
    {
     "data": {
      "text/plain": [
       "<Figure size 640x480 with 1 Axes>"
      ]
     },
     "metadata": {},
     "output_type": "display_data"
    },
    {
     "name": "stdout",
     "output_type": "stream",
     "text": [
      "prueba:  [[2, 5]]\n",
      "Prediccion: ([[2, 5]],[1])\n",
      "prueba2:  [[3, 5]]\n",
      "Prediccion2: ([[3, 5]],[1])\n",
      "centroides: \n",
      "[[1.5 1. ]\n",
      " [4.5 3.5]]\n",
      "los centroides:\n",
      "[1.5 1. ]\n",
      "los centroidesss: \n",
      "1.5\n"
     ]
    },
    {
     "data": {
      "text/plain": [
       "<Figure size 640x480 with 1 Axes>"
      ]
     },
     "metadata": {},
     "output_type": "display_data"
    },
    {
     "name": "stdout",
     "output_type": "stream",
     "text": [
      "-------------------------------------------\n"
     ]
    },
    {
     "data": {
      "text/plain": [
       "<Figure size 640x480 with 1 Axes>"
      ]
     },
     "metadata": {},
     "output_type": "display_data"
    }
   ],
   "source": [
    "\n",
    "#PRACTICA EN EL LABORATORIO\n",
    "import numpy as np\n",
    "import matplotlib.pyplot as pl\n",
    "\n",
    "from sklearn.cluster import KMeans\n",
    "#from sklearn import Metrics\n",
    "\n",
    "v1=[1,2,4,5]\n",
    "v2=[1,1,3,4]\n",
    "\n",
    "print(v1)\n",
    "print(v2)\n",
    "x1=np.array(v1)\n",
    "x2=np.array(v2)\n",
    "x=np.array(list(zip(x1,x2))).reshape(len(x1),2)\n",
    "pl.plot(x1,x2,'o',label=\"D\")\n",
    "\n",
    "pl.xlabel('x')\n",
    "pl.ylabel('y')\n",
    "pl.grid()\n",
    "pl.legend()\n",
    "pl.show()\n",
    "\n",
    "k=2 \n",
    "modelo_kmeans=KMeans(n_clusters=k).fit(x)\n",
    "\n",
    "\n",
    "prueba=[[2,5]]\n",
    "print(\"prueba: \",prueba)\n",
    "prediccion=modelo_kmeans.predict(prueba)\n",
    "print(\"Prediccion: ({0},{1})\".format(prueba,prediccion))\n",
    "#prueba 2\n",
    "prueba=[[3,5]]\n",
    "print(\"prueba2: \",prueba)\n",
    "prediccion=modelo_kmeans.predict(prueba)\n",
    "print(\"Prediccion2: ({0},{1})\".format(prueba,prediccion))\n",
    "\n",
    "\n",
    "\n",
    "\n",
    "#calculando los centroides\n",
    "print(\"centroides: \")\n",
    "centroides=modelo_kmeans.cluster_centers_\n",
    "print(centroides)\n",
    "c1=centroides[0]\n",
    "c2=centroides[1]\n",
    "\n",
    "print(\"los centroides:\")\n",
    "print(c1)\n",
    "print(\"los centroidesss: \")\n",
    "cx1=c1[0]\n",
    "print(cx1)\n",
    "#para graficar\n",
    "cx=[c1[0],c2[0]]\n",
    "cy=[c1[1],c2[1]]\n",
    "\n",
    "\n",
    "pl.plot(x1,x2,'o',label=\"puntos\")\n",
    "pl.plot(cx,cy,'o',label=\"centroides\")\n",
    "\n",
    "pl.xlabel('x')\n",
    "pl.ylabel('y')\n",
    "pl.grid()\n",
    "pl.legend()\n",
    "pl.show()\n",
    "print(\"-------------------------------------------\")\n",
    "pl.plot(x1,x2,'o',label=\"puntos\")\n",
    "pl.plot(c1[0],c1[1],'o',label=\"c1\")\n",
    "pl.plot(c2[0],c2[1],'o',label=\"c2\")\n",
    "\n",
    "pl.xlabel('x')\n",
    "pl.ylabel('y')\n",
    "pl.grid()\n",
    "pl.legend()\n",
    "pl.show()"
   ]
  },
  {
   "cell_type": "code",
   "execution_count": null,
   "metadata": {},
   "outputs": [],
   "source": []
  }
 ],
 "metadata": {
  "kernelspec": {
   "display_name": "Python 3",
   "language": "python",
   "name": "python3"
  },
  "language_info": {
   "codemirror_mode": {
    "name": "ipython",
    "version": 3
   },
   "file_extension": ".py",
   "mimetype": "text/x-python",
   "name": "python",
   "nbconvert_exporter": "python",
   "pygments_lexer": "ipython3",
   "version": "3.7.4"
  }
 },
 "nbformat": 4,
 "nbformat_minor": 2
}
